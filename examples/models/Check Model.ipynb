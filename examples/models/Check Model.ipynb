{
 "cells": [
  {
   "cell_type": "code",
   "execution_count": 1,
   "id": "88a20469",
   "metadata": {},
   "outputs": [],
   "source": [
    "%load_ext autoreload\n",
    "%autoreload 2\n",
    "import vision_transformer\n",
    "import beit_vision_transformer\n",
    "import torch\n",
    "import simmim"
   ]
  },
  {
   "cell_type": "code",
   "execution_count": 70,
   "id": "e6cd0b3f",
   "metadata": {},
   "outputs": [],
   "source": [
    "model = vision_transformer.vit_base(num_classes=50)"
   ]
  },
  {
   "cell_type": "code",
   "execution_count": 19,
   "id": "5b553a6c",
   "metadata": {},
   "outputs": [],
   "source": [
    "state_dict = torch.load(\"/vision/u/eatang/self-supervised/checkpoints/mae_pretrain_vit_large.pth\")\n"
   ]
  },
  {
   "cell_type": "code",
   "execution_count": 20,
   "id": "2f04324a",
   "metadata": {},
   "outputs": [
    {
     "data": {
      "text/plain": [
       "_IncompatibleKeys(missing_keys=['head.weight', 'head.bias'], unexpected_keys=[])"
      ]
     },
     "execution_count": 20,
     "metadata": {},
     "output_type": "execute_result"
    }
   ],
   "source": [
    "model.load_state_dict(state_dict[\"model\"], strict=False)"
   ]
  },
  {
   "cell_type": "code",
   "execution_count": 68,
   "id": "e1e9257a",
   "metadata": {},
   "outputs": [],
   "source": [
    "state_dict = torch.load(\"/vision/u/eatang/self-supervised/checkpoints/moco-vit-b-300ep.pth.tar\")"
   ]
  },
  {
   "cell_type": "code",
   "execution_count": 69,
   "id": "734a33d3",
   "metadata": {},
   "outputs": [],
   "source": [
    "backbone_state_dict = {}\n",
    "for key, value in state_dict[\"state_dict\"].items():\n",
    "    if key.startswith('module.base_encoder.'):\n",
    "        new_key = key[20:]  # Remove 'module.' prefix\n",
    "        backbone_state_dict[new_key] = value\n",
    "    else:\n",
    "        backbone_state_dict[key] = value"
   ]
  },
  {
   "cell_type": "code",
   "execution_count": 23,
   "id": "0a3ba743",
   "metadata": {},
   "outputs": [],
   "source": [
    "model = beit_vision_transformer.beit_base_patch16_224(num_classes=1000, use_abs_pos_emb=False, use_shared_rel_pos_bias=True, qkv_bias=True, init_values=1)\n",
    "\n",
    "\n",
    "\n"
   ]
  },
  {
   "cell_type": "code",
   "execution_count": 24,
   "id": "d07bb413",
   "metadata": {},
   "outputs": [],
   "source": [
    "state_dict = torch.load(\"/vision/u/eatang/self-supervised/checkpoints/beitv2_base_patch16_224_pt1k.pth\")\n",
    "state_dict[\"model\"][\"fc_norm.weight\"] = state_dict[\"model\"][\"norm.weight\"]\n",
    "state_dict[\"model\"][\"fc_norm.bias\"] = state_dict[\"model\"][\"norm.bias\"]"
   ]
  },
  {
   "cell_type": "code",
   "execution_count": 25,
   "id": "589024cf",
   "metadata": {},
   "outputs": [
    {
     "data": {
      "text/plain": [
       "_IncompatibleKeys(missing_keys=['head.weight', 'head.bias'], unexpected_keys=['mask_token', 'lm_head.weight', 'lm_head.bias', 'cls_pt_layers.0.gamma_1', 'cls_pt_layers.0.gamma_2', 'cls_pt_layers.0.norm1.weight', 'cls_pt_layers.0.norm1.bias', 'cls_pt_layers.0.attn.q_bias', 'cls_pt_layers.0.attn.v_bias', 'cls_pt_layers.0.attn.qkv.weight', 'cls_pt_layers.0.attn.proj.weight', 'cls_pt_layers.0.attn.proj.bias', 'cls_pt_layers.0.norm2.weight', 'cls_pt_layers.0.norm2.bias', 'cls_pt_layers.0.mlp.fc1.weight', 'cls_pt_layers.0.mlp.fc1.bias', 'cls_pt_layers.0.mlp.fc2.weight', 'cls_pt_layers.0.mlp.fc2.bias', 'cls_pt_layers.1.gamma_1', 'cls_pt_layers.1.gamma_2', 'cls_pt_layers.1.norm1.weight', 'cls_pt_layers.1.norm1.bias', 'cls_pt_layers.1.attn.q_bias', 'cls_pt_layers.1.attn.v_bias', 'cls_pt_layers.1.attn.qkv.weight', 'cls_pt_layers.1.attn.proj.weight', 'cls_pt_layers.1.attn.proj.bias', 'cls_pt_layers.1.norm2.weight', 'cls_pt_layers.1.norm2.bias', 'cls_pt_layers.1.mlp.fc1.weight', 'cls_pt_layers.1.mlp.fc1.bias', 'cls_pt_layers.1.mlp.fc2.weight', 'cls_pt_layers.1.mlp.fc2.bias', 'norm.weight', 'norm.bias'])"
      ]
     },
     "execution_count": 25,
     "metadata": {},
     "output_type": "execute_result"
    }
   ],
   "source": [
    "model.load_state_dict(state_dict[\"model\"], strict=False)"
   ]
  },
  {
   "cell_type": "code",
   "execution_count": 16,
   "id": "c636c421",
   "metadata": {},
   "outputs": [],
   "source": [
    "import simmim"
   ]
  },
  {
   "cell_type": "code",
   "execution_count": null,
   "id": "d0551902",
   "metadata": {},
   "outputs": [],
   "source": []
  },
  {
   "cell_type": "code",
   "execution_count": 17,
   "id": "2b65585f",
   "metadata": {},
   "outputs": [
    {
     "name": "stdout",
     "output_type": "stream",
     "text": [
      "=> merge config from /vision/u/eatang/self-supervised/examples/models/simmim_config.yaml\n"
     ]
    }
   ],
   "source": [
    "model = simmim.vit_base()"
   ]
  },
  {
   "cell_type": "code",
   "execution_count": 18,
   "id": "10515e15",
   "metadata": {
    "scrolled": true
   },
   "outputs": [
    {
     "data": {
      "text/plain": [
       "_IncompatibleKeys(missing_keys=['head.weight', 'head.bias'], unexpected_keys=[])"
      ]
     },
     "execution_count": 18,
     "metadata": {},
     "output_type": "execute_result"
    }
   ],
   "source": [
    "model.load_state_dict(\n",
    "    simmim.load_state_dict(\n",
    "        \"/vision/u/eatang/self-supervised/checkpoints/simmim_pretrain__vit_base__img224__800ep.pth\"\n",
    "    ),\n",
    "    strict=False\n",
    ")"
   ]
  },
  {
   "cell_type": "code",
   "execution_count": 19,
   "id": "a9e10b2d",
   "metadata": {},
   "outputs": [
    {
     "data": {
      "text/plain": [
       "Linear(in_features=768, out_features=1000, bias=True)"
      ]
     },
     "execution_count": 19,
     "metadata": {},
     "output_type": "execute_result"
    }
   ],
   "source": [
    "model.head"
   ]
  },
  {
   "cell_type": "code",
   "execution_count": 15,
   "id": "3ba58af5",
   "metadata": {},
   "outputs": [],
   "source": [
    "backbone_state_dict = {}\n",
    "for key, value in state_dict[\"model\"].items():\n",
    "    if key.startswith('encoder.'):\n",
    "        new_key = key[8:]  # Remove 'module.' prefix\n",
    "        backbone_state_dict[new_key] = value\n",
    "    else:\n",
    "        backbone_state_dict[key] = value"
   ]
  },
  {
   "cell_type": "code",
   "execution_count": 40,
   "id": "37abb0ab",
   "metadata": {},
   "outputs": [
    {
     "data": {
      "text/plain": [
       "_IncompatibleKeys(missing_keys=['pos_embed', 'fpn1.0.weight', 'fpn1.0.bias', 'fpn1.1.weight', 'fpn1.1.bias', 'fpn1.1.running_mean', 'fpn1.1.running_var', 'fpn1.3.weight', 'fpn1.3.bias', 'fpn2.0.weight', 'fpn2.0.bias'], unexpected_keys=['fc_norm.weight', 'fc_norm.bias', 'head.weight', 'head.bias', 'blocks.0.gamma_1', 'blocks.0.gamma_2', 'blocks.0.attn.q_bias', 'blocks.0.attn.v_bias', 'blocks.0.attn.relative_position_bias_table', 'blocks.0.attn.relative_position_index', 'blocks.1.gamma_1', 'blocks.1.gamma_2', 'blocks.1.attn.q_bias', 'blocks.1.attn.v_bias', 'blocks.1.attn.relative_position_bias_table', 'blocks.1.attn.relative_position_index', 'blocks.2.gamma_1', 'blocks.2.gamma_2', 'blocks.2.attn.q_bias', 'blocks.2.attn.v_bias', 'blocks.2.attn.relative_position_bias_table', 'blocks.2.attn.relative_position_index', 'blocks.3.gamma_1', 'blocks.3.gamma_2', 'blocks.3.attn.q_bias', 'blocks.3.attn.v_bias', 'blocks.3.attn.relative_position_bias_table', 'blocks.3.attn.relative_position_index', 'blocks.4.gamma_1', 'blocks.4.gamma_2', 'blocks.4.attn.q_bias', 'blocks.4.attn.v_bias', 'blocks.4.attn.relative_position_bias_table', 'blocks.4.attn.relative_position_index', 'blocks.5.gamma_1', 'blocks.5.gamma_2', 'blocks.5.attn.q_bias', 'blocks.5.attn.v_bias', 'blocks.5.attn.relative_position_bias_table', 'blocks.5.attn.relative_position_index', 'blocks.6.gamma_1', 'blocks.6.gamma_2', 'blocks.6.attn.q_bias', 'blocks.6.attn.v_bias', 'blocks.6.attn.relative_position_bias_table', 'blocks.6.attn.relative_position_index', 'blocks.7.gamma_1', 'blocks.7.gamma_2', 'blocks.7.attn.q_bias', 'blocks.7.attn.v_bias', 'blocks.7.attn.relative_position_bias_table', 'blocks.7.attn.relative_position_index', 'blocks.8.gamma_1', 'blocks.8.gamma_2', 'blocks.8.attn.q_bias', 'blocks.8.attn.v_bias', 'blocks.8.attn.relative_position_bias_table', 'blocks.8.attn.relative_position_index', 'blocks.9.gamma_1', 'blocks.9.gamma_2', 'blocks.9.attn.q_bias', 'blocks.9.attn.v_bias', 'blocks.9.attn.relative_position_bias_table', 'blocks.9.attn.relative_position_index', 'blocks.10.gamma_1', 'blocks.10.gamma_2', 'blocks.10.attn.q_bias', 'blocks.10.attn.v_bias', 'blocks.10.attn.relative_position_bias_table', 'blocks.10.attn.relative_position_index', 'blocks.11.gamma_1', 'blocks.11.gamma_2', 'blocks.11.attn.q_bias', 'blocks.11.attn.v_bias', 'blocks.11.attn.relative_position_bias_table', 'blocks.11.attn.relative_position_index'])"
      ]
     },
     "execution_count": 40,
     "metadata": {},
     "output_type": "execute_result"
    }
   ],
   "source": [
    "model.load_state_dict(backbone_state_dict, strict=False)"
   ]
  },
  {
   "cell_type": "code",
   "execution_count": 21,
   "id": "6bc58b79",
   "metadata": {},
   "outputs": [
    {
     "data": {
      "text/plain": [
       "_IncompatibleKeys(missing_keys=['pos_embed', 'blocks.0.attn.qkv.bias', 'blocks.1.attn.qkv.bias', 'blocks.2.attn.qkv.bias', 'blocks.3.attn.qkv.bias', 'blocks.4.attn.qkv.bias', 'blocks.5.attn.qkv.bias', 'blocks.6.attn.qkv.bias', 'blocks.7.attn.qkv.bias', 'blocks.8.attn.qkv.bias', 'blocks.9.attn.qkv.bias', 'blocks.10.attn.qkv.bias', 'blocks.11.attn.qkv.bias', 'head.weight', 'head.bias'], unexpected_keys=['mask_token', 'rel_pos_bias.relative_position_bias_table', 'rel_pos_bias.relative_position_index', 'decoder.0.bias', 'decoder.0.weight', 'blocks.0.gamma_1', 'blocks.0.gamma_2', 'blocks.0.attn.q_bias', 'blocks.0.attn.v_bias', 'blocks.1.gamma_1', 'blocks.1.gamma_2', 'blocks.1.attn.q_bias', 'blocks.1.attn.v_bias', 'blocks.2.gamma_1', 'blocks.2.gamma_2', 'blocks.2.attn.q_bias', 'blocks.2.attn.v_bias', 'blocks.3.gamma_1', 'blocks.3.gamma_2', 'blocks.3.attn.q_bias', 'blocks.3.attn.v_bias', 'blocks.4.gamma_1', 'blocks.4.gamma_2', 'blocks.4.attn.q_bias', 'blocks.4.attn.v_bias', 'blocks.5.gamma_1', 'blocks.5.gamma_2', 'blocks.5.attn.q_bias', 'blocks.5.attn.v_bias', 'blocks.6.gamma_1', 'blocks.6.gamma_2', 'blocks.6.attn.q_bias', 'blocks.6.attn.v_bias', 'blocks.7.gamma_1', 'blocks.7.gamma_2', 'blocks.7.attn.q_bias', 'blocks.7.attn.v_bias', 'blocks.8.gamma_1', 'blocks.8.gamma_2', 'blocks.8.attn.q_bias', 'blocks.8.attn.v_bias', 'blocks.9.gamma_1', 'blocks.9.gamma_2', 'blocks.9.attn.q_bias', 'blocks.9.attn.v_bias', 'blocks.10.gamma_1', 'blocks.10.gamma_2', 'blocks.10.attn.q_bias', 'blocks.10.attn.v_bias', 'blocks.11.gamma_1', 'blocks.11.gamma_2', 'blocks.11.attn.q_bias', 'blocks.11.attn.v_bias'])"
      ]
     },
     "execution_count": 21,
     "metadata": {},
     "output_type": "execute_result"
    }
   ],
   "source": [
    "model.load_state_dict(backbone_state_dict, strict=False)"
   ]
  },
  {
   "cell_type": "code",
   "execution_count": 6,
   "id": "27d9fd8f",
   "metadata": {},
   "outputs": [],
   "source": [
    "state_dict = torch.load(\"/vision/u/eatang/self-supervised/checkpoints/dino_vitbase16_pretrain_full_checkpoint.pth\")\n",
    "\n",
    "backbone_state_dict = {}\n",
    "for key, value in state_dict[\"student\"].items():\n",
    "    if key.startswith('module.backbone.'):\n",
    "        new_key = key[16:]  # Remove 'module.' prefix\n",
    "        backbone_state_dict[new_key] = value\n",
    "    else:\n",
    "        backbone_state_dict[key] = value\n",
    "\n",
    "\n",
    "\n"
   ]
  },
  {
   "cell_type": "code",
   "execution_count": 7,
   "id": "11032c3c",
   "metadata": {},
   "outputs": [
    {
     "data": {
      "text/plain": [
       "_IncompatibleKeys(missing_keys=['head.weight', 'head.bias'], unexpected_keys=['module.head.mlp.0.weight', 'module.head.mlp.0.bias', 'module.head.mlp.2.weight', 'module.head.mlp.2.bias', 'module.head.mlp.4.weight', 'module.head.mlp.4.bias', 'module.head.last_layer.weight'])"
      ]
     },
     "execution_count": 7,
     "metadata": {},
     "output_type": "execute_result"
    }
   ],
   "source": [
    "model.load_state_dict(backbone_state_dict, strict=False)"
   ]
  },
  {
   "cell_type": "code",
   "execution_count": 7,
   "id": "9df226a1",
   "metadata": {},
   "outputs": [],
   "source": [
    "state_dict = torch.load(\"/vision/u/eatang/self-supervised/checkpoints/mae_pretrain_vit_base.pth\")"
   ]
  },
  {
   "cell_type": "code",
   "execution_count": 6,
   "id": "8e72afff",
   "metadata": {},
   "outputs": [
    {
     "data": {
      "text/plain": [
       "_IncompatibleKeys(missing_keys=['head.weight', 'head.bias'], unexpected_keys=['module.head.mlp.0.weight', 'module.head.mlp.0.bias', 'module.head.mlp.2.weight', 'module.head.mlp.2.bias', 'module.head.mlp.4.weight', 'module.head.mlp.4.bias', 'module.head.last_layer.weight'])"
      ]
     },
     "execution_count": 6,
     "metadata": {},
     "output_type": "execute_result"
    }
   ],
   "source": [
    "model.load_state_dict(backbone_state_dict, strict=False)"
   ]
  },
  {
   "cell_type": "code",
   "execution_count": null,
   "id": "7444ac22",
   "metadata": {},
   "outputs": [],
   "source": []
  },
  {
   "cell_type": "code",
   "execution_count": 24,
   "id": "e9dd13ca",
   "metadata": {},
   "outputs": [
    {
     "data": {
      "text/plain": [
       "Linear(in_features=768, out_features=50, bias=True)"
      ]
     },
     "execution_count": 24,
     "metadata": {},
     "output_type": "execute_result"
    }
   ],
   "source": [
    "model.head"
   ]
  },
  {
   "cell_type": "code",
   "execution_count": null,
   "id": "203b3b3f",
   "metadata": {},
   "outputs": [],
   "source": []
  }
 ],
 "metadata": {
  "kernelspec": {
   "display_name": "Python [conda env:root] *",
   "language": "python",
   "name": "conda-root-py"
  },
  "language_info": {
   "codemirror_mode": {
    "name": "ipython",
    "version": 3
   },
   "file_extension": ".py",
   "mimetype": "text/x-python",
   "name": "python",
   "nbconvert_exporter": "python",
   "pygments_lexer": "ipython3",
   "version": "3.10.8"
  }
 },
 "nbformat": 4,
 "nbformat_minor": 5
}
